{
 "cells": [
  {
   "cell_type": "markdown",
   "metadata": {},
   "source": [
    "# TP 2\n",
    "# Construire ses propres simulations"
   ]
  },
  {
   "cell_type": "markdown",
   "metadata": {},
   "source": [
    "### Objectifs\n",
    "\n",
    "Utiliser ATOM tel quel sans écrire de code. Manipuler / Vérifier les\n",
    "traces\n",
    "\n",
    "Documentation Atom : http://atom.univ-lille1.fr/AtomDoc.html  \n",
    "Documentation R : https://www.r-project.org/manuals.html\n",
    "\n",
    "**Connaissances préalables** : Un peu de Python"
   ]
  },
  {
   "cell_type": "code",
   "execution_count": null,
   "metadata": {},
   "outputs": [],
   "source": [
    "import matplotlib.pyplot as plt\n",
    "import numpy as np\n",
    "import scipy.stats\n",
    "import random\n",
    "FILES = \"files/\"\n",
    "\n",
    "from atom import *\n",
    "from data_processing import *\n",
    "import statsmodels.tsa.stattools as stats\n",
    "plt.rcParams['figure.figsize'] = (15,10)"
   ]
  },
  {
   "cell_type": "markdown",
   "metadata": {},
   "source": [
    "## 1 Ré-écrire un équivalent de Generate\n",
    "\n",
    "_pas équivalent à Java_\n",
    "\n"
   ]
  },
  {
   "cell_type": "markdown",
   "metadata": {},
   "source": [
    "## 2 Des ZIT plus évolués\n",
    "\n",
    "Par défaut, les ZIT décident aléatoirement de déposer un ordre coté Ask ou Bid aléatoirement. Il est néanmoins possible de passer\n",
    "en paramètre les deux probabilités d’envoyer un Bid ou un ask :\n",
    "\n",
    "`t = ZITTrader(m, q_min=1,q_max=10,p_min=100, p_max=999, pb_ask=0.2, pb_bid=0.3)`\n",
    "\n",
    "crée un agent avec qui ne parle que dans 50% des cas, et qui, quand il parle, décide d’envoyer plus de BID (30%) que\n",
    "de ASK (20%), sur une quantité entre 1 et 10 et un prix entre 100 et 999."
   ]
  },
  {
   "cell_type": "markdown",
   "metadata": {},
   "source": [
    "**1. Créez un marché Imbalance qui invoque uniquement 2 agents, l’un avec 20% et 30% (resp Ask et Bid) et\n",
    "l’autre avec 40% et 50% (resp Ask et Bid), sur une période continue de 1000 tours de parole.**"
   ]
  },
  {
   "cell_type": "code",
   "execution_count": null,
   "metadata": {},
   "outputs": [],
   "source": [
    "file = open('trace.dat', 'w')\n",
    "m = Market(['Apple'],out=file)\n",
    "t1 = ZITTrader(m, p_min=100, p_max=999, pb_ask=0.2, pb_bid=0.3)\n",
    "t2 = ZITTrader(m, p_min=100, p_max=999, pb_ask=0.4, pb_bid=0.5)\n",
    "m.add_trader(t1)\n",
    "m.add_trader(t2)\n",
    "for i in range(1000):\n",
    "    m.run_once()\n",
    "m.print_state()\n",
    "\n",
    "traders_id = []\n",
    "for trader in m.traders:\n",
    "    traders_id.append(trader.trader_id)\n",
    "    \n",
    "file.close()"
   ]
  },
  {
   "cell_type": "markdown",
   "metadata": {},
   "source": [
    "**2. Comment vérifier dans le fichier résultat les statistiques de départ ?**"
   ]
  },
  {
   "cell_type": "code",
   "execution_count": null,
   "metadata": {},
   "outputs": [],
   "source": [
    "zit1 = \"ZIT \"+str(traders_id[0])\n",
    "file = open('trace.dat','r')\n",
    "line = file.readline()\n",
    "tot=0\n",
    "bid=0\n",
    "ask=0\n",
    "while(line!=\"\"):\n",
    "    if (\"LimitOrder;Apple;\"+zit1 in line and line[0]!='#'):\n",
    "        if (line.split(\";\")[3])==\"BID\":\n",
    "            bid+=1\n",
    "        else:\n",
    "            ask+=1\n",
    "        tot+=1\n",
    "    line = file.readline()\n",
    "print(\"Agent {} a envoyé {} ordres soit sur {}% des ticks\".format(zit1,tot,tot/10))\n",
    "print(\"composés de {} asks (sur {}% des ticks) et {} ({}% des ticks) bids\".format(ask,ask/10,bid,bid/10))"
   ]
  },
  {
   "cell_type": "markdown",
   "metadata": {},
   "source": [
    "## 3 Tests de rapidité\n",
    "\n"
   ]
  },
  {
   "cell_type": "markdown",
   "metadata": {},
   "source": [
    "**1. Créer une simulation de marché à un seul asset et 1000 agents ZIT, qui effectue  1000 tours de parole (donc 1\n",
    "million d’ordres exécutés par le marché).**  (a priori ça doit mettre 1mn30) \n",
    "_100 millions = bcp trop long en python_"
   ]
  },
  {
   "cell_type": "code",
   "execution_count": null,
   "metadata": {},
   "outputs": [],
   "source": [
    "import time\n",
    "t = time.time()\n",
    "m = Market(['Apple'],trace=\"\")\n",
    "m.generate(1000, 1000)\n",
    "print(int((time.time()-t)),\"s\")"
   ]
  },
  {
   "cell_type": "markdown",
   "metadata": {},
   "source": [
    "## 4 De la difficulté à ne pas se ruiner\n",
    "\n",
    "Le ModerateAgent est un ZIT qui attend l’exécution totale de l’ordre envoyé pour en envoyer un nouveau.\n",
    "Le IntelligentAgent est un ModerateAgent qui en plus, vérifie toujours qu’il a le cash suffisant pour ne pas passer en\n",
    "valeurs négatives.  "
   ]
  },
  {
   "cell_type": "markdown",
   "metadata": {},
   "source": [
    "**1. Lancer un marché qui vérifie le bon fonctionnement du ModerateAgent : il contiendra 1 Moderate\n",
    "et 10 ZIT qui s’exécutent durant 1000 tours.  \n",
    "En fin d’expérience, on affichera son cash, ses invests et la valuation de son portefeuille final. Vérifiez dans la trace d’exécution le bon fonctionnement de l’agent Moderate.**"
   ]
  },
  {
   "cell_type": "code",
   "execution_count": null,
   "metadata": {},
   "outputs": [],
   "source": [
    "class ModerateTrader(Trader):\n",
    "    def __init__(self, market, initial_assets=None, cash=0):\n",
    "        Trader.__init__(self, market, initial_assets, cash)\n",
    "    def __str__(self):\n",
    "        return \"MOD \" + super().__str__()\n",
    "    def decide_order(self, market, asset):\n",
    "        # On compte le nombre d'ordres placés dans les orderbooks par cet agent...\n",
    "        nb_placed_orders = sum(len([o for o in market.orderbooks[asset2].asks.tree+market.orderbooks[asset2].bids.tree if o.source == self]) for asset2 in market.orderbooks.keys())\n",
    "        if nb_placed_orders == 0:\n",
    "            direction = random.choice(['ASK', 'BID'])\n",
    "            if direction == 'ASK':\n",
    "                return LimitOrder(asset, self, 'ASK', random.randint(1000, 9999), random.randint(1, 9))\n",
    "            elif direction == 'BID':\n",
    "                price = random.randint(1000, 9999)\n",
    "                # On n'achète pas pour un volume > au cash qu'on a.\n",
    "                return LimitOrder(asset, self, 'BID', price, random.randint(1, 9))\n",
    "        return None # Dans tous les autres cas, on ne place pas d'ordre."
   ]
  },
  {
   "cell_type": "code",
   "execution_count": null,
   "metadata": {},
   "outputs": [],
   "source": [
    "file = open('trace_moderate.dat', 'w')\n",
    "m = Market(['Apple'],out=file)\n",
    "cash = 10000\n",
    "moderate = ModerateTrader(m,cash=cash) # obligé d'avoir du cash au départ\n",
    "m.add_trader(moderate)\n",
    "\n",
    "for i in range(10):\n",
    "    t = ZITTrader(m,cash=cash)\n",
    "    m.add_trader(t)\n",
    "\n",
    "for i in range(1000):\n",
    "    m.run_once()\n",
    "m.print_state()   \n",
    "file.close()\n",
    "\n",
    "Wealths = extract_wealths('trace_moderate.dat')\n",
    "for agent in Wealths.keys():\n",
    "    if \"MOD\" in agent:\n",
    "        magent = agent\n",
    "T, W = Wealths[magent]\n",
    "plt.plot(W, '-', label=magent)\n",
    "plt.legend(loc='best')\n",
    "plt.grid()\n",
    "plt.xlabel('Time')\n",
    "plt.ylabel('Wealth')\n",
    "plt.show()\n",
    "print(\"Avec\",cash,\" de cash au départ\")\n",
    "print(\"Wealth :\",W[-1],\"(peut être négatif)\")\n",
    "print(\"Profit :\",W[-1]-cash)"
   ]
  },
  {
   "cell_type": "markdown",
   "metadata": {},
   "source": [
    "**2. Lancer un marché qui vérifie le bon fonctionnement du IntelligentAgent : il contiendra\n",
    "1 Intelligent et 10 ZIT qui s’exécutent durant 1000 tours. En fin d’expérience, on affichera son cash, ses invests et la\n",
    "valuation de son portefeuille final. Vérifiez dans la trace d’exécution le bon fonctionnement de l’agent Intelligent**"
   ]
  },
  {
   "cell_type": "code",
   "execution_count": null,
   "metadata": {},
   "outputs": [],
   "source": [
    "class IntelligentTrader(Trader):\n",
    "    def __init__(self, market, initial_assets=None, cash=0):\n",
    "        Trader.__init__(self, market, initial_assets, cash)\n",
    "    def __str__(self):\n",
    "        return \"INT \" + super().__str__()\n",
    "    def decide_order(self, market, asset):\n",
    "        # On compte le nombre d'ordres placés dans les orderbooks par cet agent...\n",
    "        nb_placed_orders = sum(len([o for o in market.orderbooks[asset2].asks.tree+market.orderbooks[asset2].bids.tree if o.source == self]) for asset2 in market.orderbooks.keys())\n",
    "        if nb_placed_orders == 0:\n",
    "            direction = random.choice(['ASK', 'BID'])\n",
    "            if direction == 'ASK' and self.assets[asset] > 0: # Si on a quantité > 0 d'actions pour cet asset...\n",
    "                # On ne vend pas une quantité d'actions > à celle qu'on a.\n",
    "                return LimitOrder(asset, self, 'ASK', random.randint(1000, 9999), random.randint(1, min(self.assets[asset], 9)))\n",
    "            elif direction == 'BID' and self.cash >= 1000: # Pour acheter, il faut de l'argent...\n",
    "                price = random.randint(1000, min(self.cash, 9999))\n",
    "                # On n'achète pas pour un volume > au cash qu'on a.\n",
    "                return LimitOrder(asset, self, 'BID', price, random.randint(1, min(self.cash//price, 9)))\n",
    "        return None # Dans tous les autres cas, on ne place pas d'ordre."
   ]
  },
  {
   "cell_type": "code",
   "execution_count": null,
   "metadata": {
    "scrolled": true
   },
   "outputs": [],
   "source": [
    "file = open('trace_intelligent.dat', 'w')\n",
    "m = Market(['Apple'],out=file)\n",
    "cash = 10000\n",
    "intelligent = IntelligentTrader(m,cash=cash) # obligé d'avoir du cash au départ\n",
    "m.add_trader(intelligent)\n",
    "\n",
    "for i in range(10):\n",
    "    t = ZITTrader(m,cash=cash)\n",
    "    m.add_trader(t)\n",
    "\n",
    "for i in range(1000):\n",
    "    m.run_once()\n",
    "m.print_state()   \n",
    "file.close()\n",
    "\n",
    "Wealths = extract_wealths('trace_intelligent.dat')\n",
    "for agent in Wealths.keys():\n",
    "    if \"INT\" in agent:\n",
    "        iagent = agent\n",
    "T, W = Wealths[iagent]\n",
    "plt.plot(W, '-', label=iagent)\n",
    "plt.legend(loc='best')\n",
    "plt.grid()\n",
    "plt.xlabel('Time')\n",
    "plt.ylabel('Wealth')\n",
    "plt.show()\n",
    "print(\"Avec\",cash,\" de cash au départ\")\n",
    "print(\"Wealth :\",W[-1],\"(ne peut être négatif)\")\n",
    "print(\"Profit :\",W[-1]-cash)"
   ]
  },
  {
   "cell_type": "code",
   "execution_count": null,
   "metadata": {},
   "outputs": [],
   "source": [
    "file = open('trace_all_intelligent.dat', 'w')\n",
    "m = Market(['Apple'],out=file)\n",
    "cash = 1000000\n",
    "for i in range(5):\n",
    "    t = IntelligentTrader(m,initial_assets=[1000],cash=cash)\n",
    "    m.add_trader(t)\n",
    "\n",
    "for i in range(1000):\n",
    "    m.run_once()\n",
    "m.print_state()   \n",
    "file.close()\n",
    "\n",
    "Wealths = extract_wealths('trace_all_intelligent.dat')\n",
    "for agent in Wealths.keys():\n",
    "    T, W = Wealths[agent]\n",
    "    plt.plot(W, '-', label=agent)\n",
    "plt.legend(loc='best')\n",
    "plt.grid()\n",
    "plt.xlabel('Time')\n",
    "plt.ylabel('Wealth')\n",
    "plt.show()\n",
    "\n",
    "print(\"Tout est bloqué très rapidement. Chacun attend que son ordre soit exécuté -> deadlock\")"
   ]
  }
 ],
 "metadata": {
  "kernelspec": {
   "display_name": "Python 3",
   "language": "python",
   "name": "python3"
  },
  "language_info": {
   "codemirror_mode": {
    "name": "ipython",
    "version": 3
   },
   "file_extension": ".py",
   "mimetype": "text/x-python",
   "name": "python",
   "nbconvert_exporter": "python",
   "pygments_lexer": "ipython3",
   "version": "3.8.5"
  }
 },
 "nbformat": 4,
 "nbformat_minor": 2
}
